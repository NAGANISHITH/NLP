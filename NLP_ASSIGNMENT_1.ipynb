{
  "nbformat": 4,
  "nbformat_minor": 0,
  "metadata": {
    "colab": {
      "provenance": [],
      "include_colab_link": true
    },
    "kernelspec": {
      "name": "python3",
      "display_name": "Python 3"
    },
    "language_info": {
      "name": "python"
    }
  },
  "cells": [
    {
      "cell_type": "markdown",
      "metadata": {
        "id": "view-in-github",
        "colab_type": "text"
      },
      "source": [
        "<a href=\"https://colab.research.google.com/github/NAGANISHITH/NLP/blob/main/NLP_ASSIGNMENT_1.ipynb\" target=\"_parent\"><img src=\"https://colab.research.google.com/assets/colab-badge.svg\" alt=\"Open In Colab\"/></a>"
      ]
    },
    {
      "cell_type": "markdown",
      "source": [
        "**1. Download and install Python from the official website: python.org.    [CO1]**"
      ],
      "metadata": {
        "id": "yLXSO_encAsP"
      }
    },
    {
      "cell_type": "markdown",
      "source": [
        "- Go to [python.org](https://www.python.org) and click on \"Downloads.\"\n",
        "- Select the appropriate version for your operating system.\n",
        "- Download the installer file (.exe for Windows, .pkg for macOS).\n",
        "- Run the installer and follow the on-screen instructions.\n",
        "- Make sure to check \"Add Python to PATH\" (Windows) or follow macOS/Linux instructions.\n",
        "- Verify the installation by running `python --version` (or `python3 --version`) in your command line or terminal."
      ],
      "metadata": {
        "id": "l1itjsDNck-F"
      }
    },
    {
      "cell_type": "markdown",
      "source": [
        "**2. Loading Text Datasets from Different Resources**\n",
        "\n",
        "**(i) Loading a Text File   [CO1]**"
      ],
      "metadata": {
        "id": "QkGuagBUcqqt"
      }
    },
    {
      "cell_type": "code",
      "execution_count": null,
      "metadata": {
        "id": "qyb8aTUSXvHH",
        "colab": {
          "base_uri": "https://localhost:8080/"
        },
        "outputId": "f9945622-fb1b-4744-bc37-47302e8ab697"
      },
      "outputs": [
        {
          "output_type": "stream",
          "name": "stdout",
          "text": [
            "Hi, Iï¿½m naganishith, a Computer Student with a passion for Virtual Intelligence. I enjoy music and am always eager to learn and grow in my field.\n"
          ]
        }
      ],
      "source": [
        "with open('/content/nishith _k.txt', 'r', encoding='latin-1') as file:\n",
        "  content = file.read()\n",
        "print(content)\n"
      ]
    },
    {
      "cell_type": "markdown",
      "source": [
        "**(ii) Loading Text Data from a CSV File**"
      ],
      "metadata": {
        "id": "fb77khm5eDNN"
      }
    },
    {
      "cell_type": "code",
      "source": [
        "import csv\n",
        "\n",
        "with open('/content/customers_l89.csv', 'r') as file:\n",
        "  reader = csv.reader(file)\n",
        "  for row in reader:\n",
        "    print(row)\n"
      ],
      "metadata": {
        "id": "9zbQ93rzeEkN",
        "colab": {
          "base_uri": "https://localhost:8080/"
        },
        "outputId": "235fd76f-c9f4-47d3-b868-2804589a6a70"
      },
      "execution_count": null,
      "outputs": [
        {
          "output_type": "stream",
          "name": "stdout",
          "text": [
            "['Index', 'Customer Id', 'First Name', 'Last Name', 'Company', 'City', 'Country', 'Phone 1', 'Phone 2', 'Email', 'Subscription Date', 'Website']\n",
            "['1', 'DD37Cf93aecA6Dc', 'Sheryl', 'Baxter', 'Rasmussen Group', 'East Leonard', 'Chile', '229.077.5154', '397.884.0519x718', 'zunigavanessa@smith.info', '2020-08-24', 'http://www.stephenson.com/']\n",
            "['2', '1Ef7b82A4CAAD10', 'Preston', 'Lozano', 'Vega-Gentry', 'East Jimmychester', 'Djibouti', '5153435776', '686-620-1820x944', 'vmata@colon.com', '2021-04-23', 'http://www.hobbs.com/']\n",
            "['3', '6F94879bDAfE5a6', 'Roy', 'Berry', 'Murillo-Perry', 'Isabelborough', 'Antigua and Barbuda', '+1-539-402-0259', '(496)978-3969x58947', 'beckycarr@hogan.com', '2020-03-25', 'http://www.lawrence.com/']\n",
            "['4', '5Cef8BFA16c5e3c', 'Linda', 'Olsen', 'Dominguez, Mcmillan and Donovan', 'Bensonview', 'Dominican Republic', '001-808-617-6467x12895', '+1-813-324-8756', 'stanleyblackwell@benson.org', '2020-06-02', 'http://www.good-lyons.com/']\n",
            "['5', '053d585Ab6b3159', 'Joanna', 'Bender', 'Martin, Lang and Andrade', 'West Priscilla', 'Slovakia (Slovak Republic)', '001-234-203-0635x76146', '001-199-446-3860x3486', 'colinalvarado@miles.net', '2021-04-17', 'https://goodwin-ingram.com/']\n",
            "['6', '2d08FB17EE273F4', 'Aimee', 'Downs', 'Steele Group', 'Chavezborough', 'Bosnia and Herzegovina', '(283)437-3886x88321', '999-728-1637', 'louis27@gilbert.com', '2020-02-25', 'http://www.berger.net/']\n",
            "['7', 'EA4d384DfDbBf77', 'Darren', 'Peck', 'Lester, Woodard and Mitchell', 'Lake Ana', 'Pitcairn Islands', '(496)452-6181x3291', '+1-247-266-0963x4995', 'tgates@cantrell.com', '2021-08-24', 'https://www.le.com/']\n",
            "['8', '0e04AFde9f225dE', 'Brett', 'Mullen', 'Sanford, Davenport and Giles', 'Kimport', 'Bulgaria', '001-583-352-7197x297', '001-333-145-0369', 'asnow@colon.com', '2021-04-12', 'https://hammond-ramsey.com/']\n",
            "['9', 'C2dE4dEEc489ae0', 'Sheryl', 'Meyers', 'Browning-Simon', 'Robersonstad', 'Cyprus', '854-138-4911x5772', '+1-448-910-2276x729', 'mariokhan@ryan-pope.org', '2020-01-13', 'https://www.bullock.net/']\n",
            "['10', '8C2811a503C7c5a', 'Michelle', 'Gallagher', 'Beck-Hendrix', 'Elaineberg', 'Timor-Leste', '739.218.2516x459', '001-054-401-0347x617', 'mdyer@escobar.net', '2021-11-08', 'https://arias.com/']\n",
            "['11', '216E205d6eBb815', 'Carl', 'Schroeder', 'Oconnell, Meza and Everett', 'Shannonville', 'Guernsey', '637-854-0256x825', '114.336.0784x788', 'kirksalas@webb.com', '2021-10-20', 'https://simmons-hurley.com/']\n",
            "['12', 'CEDec94deE6d69B', 'Jenna', 'Dodson', 'Hoffman, Reed and Mcclain', 'East Andrea', 'Vietnam', '(041)737-3846', '+1-556-888-3485x42608', 'mark42@robbins.com', '2020-11-29', 'http://www.douglas.net/']\n",
            "['13', 'e35426EbDEceaFF', 'Tracey', 'Mata', 'Graham-Francis', 'South Joannamouth', 'Togo', '001-949-844-8787', '(855)713-8773', 'alex56@walls.org', '2021-12-02', 'http://www.beck.com/']\n",
            "['14', 'A08A8aF8BE9FaD4', 'Kristine', 'Cox', 'Carpenter-Cook', 'Jodyberg', 'Sri Lanka', '786-284-3358x62152', '+1-315-627-1796x8074', 'holdenmiranda@clarke.com', '2021-02-08', 'https://www.brandt.com/']\n",
            "['15', '6fEaA1b7cab7B6C', 'Faith', 'Lutz', 'Carter-Hancock', 'Burchbury', 'Singapore', '(781)861-7180x8306', '207-185-3665', 'cassieparrish@blevins-chapman.net', '2022-01-26', 'http://stevenson.org/']\n",
            "['16', '8cad0b4CBceaeec', 'Miranda', 'Beasley', 'Singleton and Sons', 'Desireeshire', 'Oman', '540.085.3135x185', '+1-600-462-6432x21881', 'vduncan@parks-hardy.com', '2022-04-12', 'http://acosta.org/']\n",
            "['17', 'a5DC21AE3a21eaA', 'Caroline', 'Foley', 'Winters-Mendoza', 'West Adriennestad', 'Western Sahara', '936.222.4746x9924', '001-469-948-6341x359', 'holtgwendolyn@watson-davenport.com', '2021-03-10', 'http://www.benson-roth.com/']\n",
            "['18', 'F8Aa9d6DfcBeeF8', 'Greg', 'Mata', 'Valentine LLC', 'Lake Leslie', 'Mozambique', '(701)087-2415', '(195)156-1861x26241', 'jaredjuarez@carroll.org', '2022-03-26', 'http://pitts-cherry.com/']\n",
            "['19', 'F160f5Db3EfE973', 'Clifford', 'Jacobson', 'Simon LLC', 'Harmonview', 'South Georgia and the South Sandwich Islands', '001-151-330-3524x0469', '(748)477-7174', 'joseph26@jacobson.com', '2020-09-24', 'https://mcconnell.com/']\n",
            "['20', '0F60FF3DdCd7aB0', 'Joanna', 'Kirk', 'Mays-Mccormick', 'Jamesshire', 'French Polynesia', '(266)131-7001x711', '(283)312-5579x11543', 'tuckerangie@salazar.net', '2021-09-24', 'https://www.camacho.net/']\n",
            "['21', '9F9AdB7B8A6f7F2', 'Maxwell', 'Frye', 'Patterson Inc', 'East Carly', 'Malta', '423.262.3059', '202-880-0688x7491', 'fgibson@drake-webb.com', '2022-01-12', 'http://www.roberts.com/']\n",
            "['22', 'FBd0Ded4F02a742', 'Kiara', 'Houston', 'Manning, Hester and Arroyo', 'South Alvin', 'Netherlands', '001-274-040-3582x10611', '+1-528-175-0973x4684', 'blanchardbob@wallace-shannon.com', '2020-09-15', 'https://www.reid-potts.com/']\n",
            "['23', '2FB0FAA1d429421', 'Colleen', 'Howard', 'Greer and Sons', 'Brittanyview', 'Paraguay', '1935085151', '(947)115-7711x5488', 'rsingleton@ryan-cherry.com', '2020-08-19', 'http://paul.biz/']\n",
            "['24', '010468dAA11382c', 'Janet', 'Valenzuela', 'Watts-Donaldson', 'Veronicamouth', \"Lao People's Democratic Republic\", '354.259.5062x7538', '500.433.2022', 'stefanie71@spence.com', '2020-09-08', 'https://moreno.biz/']\n",
            "['25', 'eC1927Ca84E033e', 'Shane', 'Wilcox', 'Tucker LLC', 'Bryanville', 'Albania', '(429)005-9030x11004', '541-116-4501', 'mariah88@santos.com', '2021-04-06', 'https://www.ramos.com/']\n",
            "['26', '09D7D7C8Fe09aea', 'Marcus', 'Moody', 'Giles Ltd', 'Kaitlyntown', 'Panama', '674-677-8623', '909-277-5485x566', 'donnamullins@norris-barrett.org', '2022-05-24', 'https://www.curry.com/']\n",
            "['27', 'aBdfcF2c50b0bfD', 'Dakota', 'Poole', 'Simmons Group', 'Michealshire', 'Belarus', '(371)987-8576x4720', '071-152-1376', 'stacey67@fields.org', '2022-02-20', 'https://sanford-wilcox.biz/']\n",
            "['28', 'b92EBfdF8a3f0E6', 'Frederick', 'Harper', 'Hinton, Chaney and Stokes', 'South Marissatown', 'Switzerland', '+1-077-121-1558x0687', '264.742.7149', 'jacobkhan@bright.biz', '2022-05-26', 'https://callahan.org/']\n",
            "['29', '3B5dAAFA41AFa22', 'Stefanie', 'Fitzpatrick', 'Santana-Duran', 'Acevedoville', 'Saint Vincent and the Grenadines', '(752)776-3286', '+1-472-021-4814x85074', 'wterrell@clark.com', '2020-07-30', 'https://meyers.com/']\n",
            "['30', 'EDA69ca7a6e96a2', 'Kent', 'Bradshaw', 'Sawyer PLC', 'North Harold', 'Tanzania', '+1-472-143-5037x884', '126.922.6153', 'qjimenez@boyd.com', '2020-04-26', 'http://maynard-ho.com/']\n",
            "['31', '64DCcDFaB9DFd4e', 'Jack', 'Tate', 'Acosta, Petersen and Morrow', 'West Samuel', 'Zimbabwe', '965-108-4406x20714', '046.906.1442x6784', 'gfigueroa@boone-zavala.com', '2021-09-15', 'http://www.hawkins-ramsey.com/']\n",
            "['32', '679c6c83DD872d6', 'Tom', 'Trujillo', 'Mcgee Group', 'Cunninghamborough', 'Denmark', '416-338-3758', '(775)890-7209', 'tapiagreg@beard.info', '2022-01-13', 'http://www.daniels-klein.com/']\n",
            "['33', '7Ce381e4Afa4ba9', 'Gabriel', 'Mejia', 'Adkins-Salinas', 'Port Annatown', 'Liechtenstein', '4077245425', '646.044.0696x66800', 'coleolson@jennings.net', '2021-04-24', 'https://patel-hanson.info/']\n",
            "['34', 'A09AEc6E3bF70eE', 'Kaitlyn', 'Santana', 'Herrera Group', 'New Kaitlyn', 'United States of America', '6303643286', '447-710-6202x07313', 'georgeross@miles.org', '2021-09-21', 'http://pham.com/']\n",
            "['35', 'aA9BAFfBc3710fe', 'Faith', 'Moon', 'Waters, Chase and Aguilar', 'West Marthaburgh', 'Bahamas', '+1-586-217-0359x6317', '+1-818-199-1403', 'willistonya@randolph-baker.com', '2021-11-03', 'https://spencer-charles.info/']\n",
            "['36', 'E11dfb2DB8C9f72', 'Tammie', 'Haley', 'Palmer, Barnes and Houston', 'East Teresa', 'Belize', '001-276-734-4113x6087', '(430)300-8770', 'harrisisaiah@jenkins.com', '2022-01-04', 'http://evans-simon.com/']\n",
            "['37', '889eCf90f68c5Da', 'Nicholas', 'Sosa', 'Jordan Ltd', 'South Hunter', 'Uruguay', '(661)425-6042', '975-998-1519', 'fwolfe@dorsey.com', '2021-08-10', 'https://www.fleming-richards.com/']\n",
            "['38', '7a1Ee69F4fF4B4D', 'Jordan', 'Gay', 'Glover and Sons', 'South Walter', 'Solomon Islands', '7208417020', '8035336772', 'tiffanydavies@harris-mcfarland.org', '2021-02-24', 'http://www.lee.org/']\n",
            "['39', 'dca4f1D0A0fc5c9', 'Bruce', 'Esparza', 'Huerta-Mclean', 'Poolefurt', 'Montenegro', '559-529-4424', '001-625-000-7132x0367', 'preese@frye-vega.com', '2021-10-22', 'http://www.farley.org/']\n",
            "['40', '17aD8e2dB3df03D', 'Sherry', 'Garza', 'Anderson Ltd', 'West John', 'Poland', '001-067-713-6440x158', '(978)289-8785x5766', 'ann48@miller.com', '2021-11-01', 'http://spence.com/']\n",
            "['41', '2f79Cd309624Abb', 'Natalie', 'Gentry', 'Monroe PLC', 'West Darius', 'Dominican Republic', '830.996.8238', '499.122.5415', 'tcummings@fitzpatrick-ashley.com', '2020-10-10', 'http://www.dorsey.biz/']\n",
            "['42', '6e5ad5a5e2bB5Ca', 'Bryan', 'Dunn', 'Kaufman and Sons', 'North Jimstad', 'Burkina Faso', '001-710-802-5565', '078.699.8982x13881', 'woodwardandres@phelps.com', '2021-09-08', 'http://www.butler.com/']\n",
            "['43', '7E441b6B228DBcA', 'Wayne', 'Simpson', 'Perkins-Trevino', 'East Rebekahborough', 'Bolivia', '(344)156-8632x1869', '463-445-3702x38463', 'barbarapittman@holder.com', '2020-12-13', 'https://gillespie-holder.com/']\n",
            "['44', 'D3fC11A9C235Dc6', 'Luis', 'Greer', 'Cross PLC', 'North Drew', 'Bulgaria', '001-336-025-6849x701', '684.698.2911x6092', 'bstuart@williamson-mcclure.com', '2022-05-15', 'https://fletcher-nielsen.com/']\n",
            "['45', '30Dfa48fe5Ede78', 'Rhonda', 'Frost', 'Herrera, Shepherd and Underwood', 'Lake Lindaburgh', 'Monaco', '(127)081-9339', '+1-431-028-3337x3492', 'zkrueger@wolf-chavez.net', '2021-12-06', 'http://www.khan.com/']\n",
            "['46', 'fD780ED8dbEae7B', 'Joanne', 'Montes', 'Price, Sexton and Mcdaniel', 'Gwendolynview', 'Palau', '(897)726-7952', '(467)886-9467x5721', 'juan80@henson.net', '2020-07-01', 'http://ochoa.com/']\n",
            "['47', '300A40d3ce24bBA', 'Geoffrey', 'Guzman', 'Short-Wiggins', 'Zimmermanland', 'Uzbekistan', '975.235.8921x269', '(983)188-6873', 'bauercrystal@gay.com', '2020-04-23', 'https://decker-kline.com/']\n",
            "['48', '283DFCD0Dba40aF', 'Gloria', 'Mccall', 'Brennan, Acosta and Ramos', 'North Kerriton', 'Ghana', '445-603-6729', '001-395-959-4736x4524', 'bartlettjenna@zuniga-moss.biz', '2022-03-11', 'http://burgess-frank.com/']\n",
            "['49', 'F4Fc91fEAEad286', 'Brady', 'Cohen', 'Osborne-Erickson', 'North Eileenville', 'United Arab Emirates', '741.849.0139x524', '+1-028-691-7497x0894', 'mccalltyrone@durham-rose.biz', '2022-03-10', 'http://hammond-barron.com/']\n",
            "['50', '80F33Fd2AcebF05', 'Latoya', 'Mccann', 'Hobbs, Garrett and Sanford', 'Port Sergiofort', 'Belarus', '(530)287-4548x29481', '162-234-0249x32790', 'bobhammond@barry.biz', '2021-12-02', 'https://www.burton.com/']\n",
            "['51', 'Aa20BDe68eAb0e9', 'Gerald', 'Hawkins', 'Phelps, Forbes and Koch', 'New Alberttown', 'Canada', '+1-323-239-1456x96168', '(092)508-0269', 'uwarner@steele-arias.com', '2021-03-19', 'https://valenzuela.com/']\n",
            "['52', 'e898eEB1B9FE22b', 'Samuel', 'Crawford', 'May, Goodwin and Martin', 'South Jasmine', 'Algeria', '802-242-7457', '626.116.9535x8578', 'xpittman@ritter-carney.net', '2021-03-27', 'https://guerrero.org/']\n",
            "['53', 'faCEF517ae7D8eB', 'Patricia', 'Goodwin', 'Christian, Winters and Ellis', 'Cowanfort', 'Swaziland', '322.549.7139x70040', '(111)741-4173', 'vaughanchristy@lara.biz', '2021-03-08', 'http://clark.info/']\n",
            "['54', 'c09952De6Cda8aA', 'Stacie', 'Richard', 'Byrd Inc', 'New Deborah', 'Madagascar', '001-622-948-3641x24810', '001-731-168-2893x8891', 'clinton85@colon-arias.org', '2020-10-15', 'https://kim.com/']\n",
            "['55', 'f3BEf3Be028166f', 'Robin', 'West', 'Nixon, Blackwell and Sosa', 'Wallstown', 'Ecuador', '698.303.4267', '001-683-837-7651x525', 'greenemiranda@zimmerman.com', '2022-01-13', 'https://www.mora.com/']\n",
            "['56', 'C6F2Fc6a7948a4e', 'Ralph', 'Haas', 'Montes PLC', 'Lake Ellenchester', 'Palestinian Territory', '2239271999', '001-962-434-0867x649', 'goodmancesar@figueroa.biz', '2020-05-25', 'http://may.com/']\n",
            "['57', 'c8FE57cBBdCDcb2', 'Phyllis', 'Maldonado', 'Costa PLC', 'Lake Whitney', 'Saint Barthelemy', '4500370767', '001-508-064-6725x017', 'yhanson@warner-diaz.org', '2021-01-25', 'http://www.bernard.com/']\n",
            "['58', 'B5acdFC982124F2', 'Danny', 'Parrish', 'Novak LLC', 'East Jaredbury', 'United Arab Emirates', '(669)384-8597x8794', '506.731.5952x571', 'howelldarren@house-cohen.com', '2021-03-17', 'http://www.parsons-hudson.com/']\n",
            "['59', '8c7DdF10798bCC3', 'Kathy', 'Hill', 'Moore, Mccoy and Glass', 'Selenabury', 'South Georgia and the South Sandwich Islands', '001-171-716-2175x310', '888.625.0654', 'ncamacho@boone-simmons.org', '2020-11-15', 'http://hayden.com/']\n",
            "['60', 'C681dDd0cc422f7', 'Kelli', 'Hardy', 'Petty Ltd', 'Huangfort', 'Sao Tome and Principe', '020.324.2191x2022', '424-157-8216', 'kristopher62@oliver.com', '2020-12-20', 'http://www.kidd.com/']\n",
            "['61', 'a940cE42e035F28', 'Lynn', 'Pham', 'Brennan, Camacho and Tapia', 'East Pennyshire', 'Portugal', '846.468.6834x611', '001-248-691-0006', 'mpham@rios-guzman.com', '2020-08-21', 'https://www.murphy.com/']\n",
            "['62', '9Cf5E6AFE0aeBfd', 'Shelley', 'Harris', 'Prince, Malone and Pugh', 'Port Jasminborough', 'Togo', '423.098.0315x8373', '+1-386-458-8944x15194', 'zachary96@mitchell-bryant.org', '2020-12-10', 'https://www.ryan.com/']\n",
            "['63', 'aEcbe5365BbC67D', 'Eddie', 'Jimenez', 'Caldwell Group', 'West Kristine', 'Ethiopia', '+1-235-657-1073x6306', '(026)401-7353x2417', 'kristiwhitney@bernard.com', '2022-03-24', 'http://cherry.com/']\n",
            "['64', 'FCBdfCEAe20A8Dc', 'Chloe', 'Hutchinson', 'Simon LLC', 'South Julia', 'Netherlands', '981-544-9452', '+1-288-552-4666x060', 'leah85@sutton-terrell.com', '2022-05-15', 'https://mitchell.info/']\n",
            "['65', '636cBF0835E10ff', 'Eileen', 'Lynch', 'Knight, Abbott and Hubbard', 'Helenborough', 'Liberia', '+1-158-951-4131x53578', '001-673-779-6713x680', 'levigiles@vincent.com', '2021-01-02', 'http://mckay.com/']\n",
            "['66', 'fF1b6c9E8Fbf1ff', 'Fernando', 'Lambert', 'Church-Banks', 'Lake Nancy', 'Lithuania', '497.829.9038', '3863743398', 'fisherlinda@schaefer.net', '2021-04-23', 'https://www.vang.com/']\n",
            "['67', '2A13F74EAa7DA6c', 'Makayla', 'Cannon', 'Henderson Inc', 'Georgeport', 'New Caledonia', '001-215-801-6392x46009', '027-609-6460', 'scottcurtis@hurley.biz', '2020-01-20', 'http://www.velazquez.net/']\n",
            "['68', 'a014Ec1b9FccC1E', 'Tom', 'Alvarado', 'Donaldson-Dougherty', 'South Sophiaberg', 'Kiribati', '(585)606-2980x2258', '730-797-3594x5614', 'nicholsonnina@montgomery.info', '2020-08-18', 'http://odom-massey.com/']\n",
            "['69', '421a109cABDf5fa', 'Virginia', 'Dudley', 'Warren Ltd', 'Hartbury', 'French Southern Territories', '027.846.3705x14184', '+1-439-171-1846x4636', 'zvalencia@phelps.com', '2021-01-31', 'http://hunter-esparza.com/']\n",
            "['70', 'CC68FD1D3Bbbf22', 'Riley', 'Good', 'Wade PLC', 'Erikaville', 'Canada', '6977745822', '855-436-7641', 'alex06@galloway.com', '2020-02-03', 'http://conway.org/']\n",
            "['71', 'CBCd2Ac8E3eBDF9', 'Alexandria', 'Buck', 'Keller-Coffey', 'Nicolasfort', 'Iran', '078-900-4760x76668', '414-112-8700x68751', 'lee48@manning.com', '2021-02-20', 'https://ramsey.org/']\n",
            "['72', 'Ef859092FbEcC07', 'Richard', 'Roth', 'Conway-Mcbride', 'New Jasmineshire', 'Morocco', '581-440-6539', '9857827463', 'aharper@maddox-townsend.org', '2020-02-23', 'https://www.brooks.com/']\n",
            "['73', 'F560f2d3cDFb618', 'Candice', 'Keller', 'Huynh and Sons', 'East Summerstad', 'Zimbabwe', '001-927-965-8550x92406', '001-243-038-4271x53076', 'buckleycory@odonnell.net', '2020-08-22', 'https://www.lucero.com/']\n",
            "['74', 'A3F76Be153Df4a3', 'Anita', 'Benson', 'Parrish Ltd', 'Skinnerport', 'Russian Federation', '874.617.5668x69878', '(399)820-6418x0071', 'angie04@oconnell.com', '2020-02-09', 'http://oconnor.com/']\n",
            "['75', 'D01Af0AF7cBbFeA', 'Regina', 'Stein', 'Guzman-Brown', 'Raystad', 'Solomon Islands', '001-469-848-0724x4407', '001-085-360-4426x00357', 'zrosario@rojas-hardin.net', '2022-01-15', 'http://www.johnston.info/']\n",
            "['76', 'd40e89dCade7b2F', 'Debra', 'Riddle', 'Chang, Aguirre and Leblanc', 'Colinhaven', 'United States Virgin Islands', '+1-768-182-6014x14336', '(303)961-4491', 'shieldskerry@robles.com', '2020-07-11', 'http://kaiser.info/']\n",
            "['77', 'BF6a1f9bd1bf8DE', 'Brittany', 'Zuniga', 'Mason-Hester', 'West Reginald', 'Kyrgyz Republic', '(050)136-9025', '001-480-851-2496x0157', 'mchandler@cochran-huerta.org', '2021-07-24', 'http://www.boyle.com/']\n",
            "['78', 'FfaeFFbbbf280db', 'Cassidy', 'Mcmahon', 'Mcguire, Huynh and Hopkins', 'Lake Sherryborough', 'Myanmar', '5040771311', '684-682-0021x1326', 'katrinalane@fitzgerald.com', '2020-10-21', 'https://hurst.com/']\n",
            "['79', 'CbAE1d1e9a8dCb1', 'Laurie', 'Pennington', 'Sanchez, Marsh and Hale', 'Port Katherineville', 'Dominica', '007.155.3406x553', '+1-809-862-5566x277', 'cookejill@powell.com', '2020-06-08', 'http://www.hebert.com/']\n",
            "['80', 'A7F85c1DE4dB87f', 'Alejandro', 'Blair', 'Combs, Waller and Durham', 'Thomasland', 'Iceland', '(690)068-4641x51468', '555.509.8691x2329', 'elizabethbarr@ewing.com', '2020-09-19', 'https://mercado-blevins.com/']\n",
            "['81', 'D6CEAfb3BDbaa1A', 'Leslie', 'Jennings', 'Blankenship-Arias', 'Coreybury', 'Micronesia', '629.198.6346', '075.256.0829', 'corey75@wiggins.com', '2021-11-13', 'https://www.juarez.com/']\n",
            "['82', 'Ebdb6F6F7c90b69', 'Kathleen', 'Mckay', 'Coffey, Lamb and Johnson', 'Lake Janiceton', 'Saint Vincent and the Grenadines', '(733)910-9968', '(691)247-4128x0665', 'chloelester@higgins-wilkinson.com', '2021-09-12', 'http://www.owens-mooney.com/']\n",
            "['83', 'E8E7e8Cfe516ef0', 'Hunter', 'Moreno', 'Fitzpatrick-Lawrence', 'East Clinton', 'Isle of Man', '(733)833-6754', '001-761-013-7121', 'isaac26@benton-finley.com', '2020-12-28', 'http://walls.info/']\n",
            "['84', '78C06E9b6B3DF20', 'Chad', 'Davidson', 'Garcia-Jimenez', 'South Joshuashire', 'Oman', '8275702958', '(804)842-4715', 'justinwalters@jimenez.com', '2021-11-15', 'http://www.garner-oliver.com/']\n",
            "['85', '03A1E62ADdeb31c', 'Corey', 'Holt', 'Mcdonald, Bird and Ramirez', 'New Glenda', 'Fiji', '001-439-242-4986x7918', '3162708934', 'maurice46@morgan.com', '2020-02-18', 'http://www.watson.com/']\n",
            "['86', 'C6763c99d0bd16D', 'Emma', 'Cunningham', 'Stephens Inc', 'North Jillianview', 'New Zealand', '128-059-0206x60217', '(312)164-4545x2284', 'walter83@juarez.org', '2022-05-13', 'http://www.reid.info/']\n",
            "['87', 'ebe77E5Bf9476CE', 'Duane', 'Woods', 'Montoya-Miller', 'Lyonsberg', 'Maldives', '(636)544-7783x7288', '(203)287-1003x5932', 'kmercer@wagner.com', '2020-07-21', 'http://murray.org/']\n",
            "['88', 'E4Bbcd8AD81fC5f', 'Alison', 'Vargas', 'Vaughn, Watts and Leach', 'East Cristinabury', 'Benin', '365-273-8144', '053-308-7653x6287', 'vcantu@norton.com', '2020-11-10', 'http://mason.info/']\n",
            "['89', 'efeb73245CDf1fF', 'Vernon', 'Kane', 'Carter-Strickland', 'Thomasfurt', 'Yemen', '114-854-1159x555', '499-608-4612', 'hilljesse@barrett.info', '2021-04-15', 'http://www.duffy-hensley.net/']\n",
            "['90', '37Ec4B395641c1E', 'Lori', 'Flowers', 'Decker-Mcknight', 'North Joeburgh', 'Namibia', '679.415.1210', '945-842-3659x4581', 'tyrone77@valenzuela.info', '2021-01-09', 'http://www.deleon-crosby.com/']\n",
            "['91', '5ef6d3eefdD43bE', 'Nina', 'Chavez', 'Byrd-Campbell', 'Cassidychester', 'Bhutan', '053-344-3205', '+1-330-920-5422x571', 'elliserica@frank.com', '2020-03-26', 'https://www.pugh.com/']\n",
            "['92', '98b3aeDcC3B9FF3', 'Shane', 'Foley', 'Rocha-Hart', 'South Dannymouth', 'Hungary', '+1-822-569-0302', '001-626-114-5844x55073', 'nsteele@sparks.com', '2021-07-06', 'https://www.holt-sparks.com/']\n",
            "['93', 'aAb6AFc7AfD0fF3', 'Collin', 'Ayers', 'Lamb-Peterson', 'South Lonnie', 'Anguilla', '404-645-5351x012', '001-257-582-8850x8516', 'dudleyemily@gonzales.biz', '2021-06-29', 'http://www.ruiz.com/']\n",
            "['94', '54B5B5Fe9F1B6C5', 'Sherry', 'Young', 'Lee, Lucero and Johnson', 'Frankchester', 'Solomon Islands', '158-687-1764', '(438)375-6207x003', 'alan79@gates-mclaughlin.com', '2021-04-04', 'https://travis.net/']\n",
            "['95', 'BE91A0bdcA49Bbc', 'Darrell', 'Douglas', 'Newton, Petersen and Mathis', 'Daisyborough', 'Mali', '001-084-845-9524x1777', '001-769-564-6303', 'grayjean@lowery-good.com', '2022-02-17', 'https://banks.biz/']\n",
            "['96', 'cb8E23e48d22Eae', 'Karl', 'Greer', 'Carey LLC', 'East Richard', 'Guyana', '(188)169-1674x58692', '001-841-293-3519x614', 'hhart@jensen.com', '2022-01-30', 'http://hayes-perez.com/']\n",
            "['97', 'CeD220bdAaCfaDf', 'Lynn', 'Atkinson', 'Ware, Burns and Oneal', 'New Bradview', 'Sri Lanka', '+1-846-706-2218', '605.413.3198', 'vkemp@ferrell.com', '2021-07-10', 'https://novak-allison.com/']\n",
            "['98', '28CDbC0dFe4b1Db', 'Fred', 'Guerra', 'Schmitt-Jones', 'Ortegaland', 'Solomon Islands', '+1-753-067-8419x7170', '+1-632-666-7507x92121', 'swagner@kane.org', '2021-09-18', 'https://www.ross.com/']\n",
            "['99', 'c23d1D9EE8DEB0A', 'Yvonne', 'Farmer', 'Fitzgerald-Harrell', 'Lake Elijahview', 'Aruba', '(530)311-9786', '001-869-452-0943x12424', 'mccarthystephen@horn-green.biz', '2021-08-11', 'http://watkins.info/']\n",
            "['100', '2354a0E336A91A1', 'Clarence', 'Haynes', 'Le, Nash and Cross', 'Judymouth', 'Honduras', '(753)813-6941', '783.639.1472', 'colleen91@faulkner.biz', '2020-03-11', 'http://www.hatfield-saunders.net/']\n"
          ]
        }
      ]
    },
    {
      "cell_type": "markdown",
      "source": [
        "**(iii) Loading Text Data from an Online Source**"
      ],
      "metadata": {
        "id": "xeDrIdbTeE09"
      }
    },
    {
      "cell_type": "code",
      "source": [
        "!pip install kaggle\n",
        "!mkdir ~/.kaggle\n",
        "!cp kaggle.json ~/.kaggle/\n",
        "!chmod 600 ~/.kaggle/kaggle.json\n",
        "!kaggle datasets download -d uciml/iris\n",
        "!unzip iris.zip\n",
        "import pandas as pd\n",
        "df = pd.read_csv('Iris.csv')\n",
        "df.head()"
      ],
      "metadata": {
        "colab": {
          "base_uri": "https://localhost:8080/",
          "height": 206
        },
        "id": "uVPpyW1lgdmt",
        "outputId": "9f1d5ff8-d654-44a3-b717-84921130f758"
      },
      "execution_count": 8,
      "outputs": [
        {
          "output_type": "execute_result",
          "data": {
            "text/plain": [
              "   Id  SepalLengthCm  SepalWidthCm  PetalLengthCm  PetalWidthCm      Species\n",
              "0   1            5.1           3.5            1.4           0.2  Iris-setosa\n",
              "1   2            4.9           3.0            1.4           0.2  Iris-setosa\n",
              "2   3            4.7           3.2            1.3           0.2  Iris-setosa\n",
              "3   4            4.6           3.1            1.5           0.2  Iris-setosa\n",
              "4   5            5.0           3.6            1.4           0.2  Iris-setosa"
            ],
            "text/html": [
              "\n",
              "  <div id=\"df-8885a152-c1e6-4b8e-bf8d-ec299d8938f5\" class=\"colab-df-container\">\n",
              "    <div>\n",
              "<style scoped>\n",
              "    .dataframe tbody tr th:only-of-type {\n",
              "        vertical-align: middle;\n",
              "    }\n",
              "\n",
              "    .dataframe tbody tr th {\n",
              "        vertical-align: top;\n",
              "    }\n",
              "\n",
              "    .dataframe thead th {\n",
              "        text-align: right;\n",
              "    }\n",
              "</style>\n",
              "<table border=\"1\" class=\"dataframe\">\n",
              "  <thead>\n",
              "    <tr style=\"text-align: right;\">\n",
              "      <th></th>\n",
              "      <th>Id</th>\n",
              "      <th>SepalLengthCm</th>\n",
              "      <th>SepalWidthCm</th>\n",
              "      <th>PetalLengthCm</th>\n",
              "      <th>PetalWidthCm</th>\n",
              "      <th>Species</th>\n",
              "    </tr>\n",
              "  </thead>\n",
              "  <tbody>\n",
              "    <tr>\n",
              "      <th>0</th>\n",
              "      <td>1</td>\n",
              "      <td>5.1</td>\n",
              "      <td>3.5</td>\n",
              "      <td>1.4</td>\n",
              "      <td>0.2</td>\n",
              "      <td>Iris-setosa</td>\n",
              "    </tr>\n",
              "    <tr>\n",
              "      <th>1</th>\n",
              "      <td>2</td>\n",
              "      <td>4.9</td>\n",
              "      <td>3.0</td>\n",
              "      <td>1.4</td>\n",
              "      <td>0.2</td>\n",
              "      <td>Iris-setosa</td>\n",
              "    </tr>\n",
              "    <tr>\n",
              "      <th>2</th>\n",
              "      <td>3</td>\n",
              "      <td>4.7</td>\n",
              "      <td>3.2</td>\n",
              "      <td>1.3</td>\n",
              "      <td>0.2</td>\n",
              "      <td>Iris-setosa</td>\n",
              "    </tr>\n",
              "    <tr>\n",
              "      <th>3</th>\n",
              "      <td>4</td>\n",
              "      <td>4.6</td>\n",
              "      <td>3.1</td>\n",
              "      <td>1.5</td>\n",
              "      <td>0.2</td>\n",
              "      <td>Iris-setosa</td>\n",
              "    </tr>\n",
              "    <tr>\n",
              "      <th>4</th>\n",
              "      <td>5</td>\n",
              "      <td>5.0</td>\n",
              "      <td>3.6</td>\n",
              "      <td>1.4</td>\n",
              "      <td>0.2</td>\n",
              "      <td>Iris-setosa</td>\n",
              "    </tr>\n",
              "  </tbody>\n",
              "</table>\n",
              "</div>\n",
              "    <div class=\"colab-df-buttons\">\n",
              "\n",
              "  <div class=\"colab-df-container\">\n",
              "    <button class=\"colab-df-convert\" onclick=\"convertToInteractive('df-8885a152-c1e6-4b8e-bf8d-ec299d8938f5')\"\n",
              "            title=\"Convert this dataframe to an interactive table.\"\n",
              "            style=\"display:none;\">\n",
              "\n",
              "  <svg xmlns=\"http://www.w3.org/2000/svg\" height=\"24px\" viewBox=\"0 -960 960 960\">\n",
              "    <path d=\"M120-120v-720h720v720H120Zm60-500h600v-160H180v160Zm220 220h160v-160H400v160Zm0 220h160v-160H400v160ZM180-400h160v-160H180v160Zm440 0h160v-160H620v160ZM180-180h160v-160H180v160Zm440 0h160v-160H620v160Z\"/>\n",
              "  </svg>\n",
              "    </button>\n",
              "\n",
              "  <style>\n",
              "    .colab-df-container {\n",
              "      display:flex;\n",
              "      gap: 12px;\n",
              "    }\n",
              "\n",
              "    .colab-df-convert {\n",
              "      background-color: #E8F0FE;\n",
              "      border: none;\n",
              "      border-radius: 50%;\n",
              "      cursor: pointer;\n",
              "      display: none;\n",
              "      fill: #1967D2;\n",
              "      height: 32px;\n",
              "      padding: 0 0 0 0;\n",
              "      width: 32px;\n",
              "    }\n",
              "\n",
              "    .colab-df-convert:hover {\n",
              "      background-color: #E2EBFA;\n",
              "      box-shadow: 0px 1px 2px rgba(60, 64, 67, 0.3), 0px 1px 3px 1px rgba(60, 64, 67, 0.15);\n",
              "      fill: #174EA6;\n",
              "    }\n",
              "\n",
              "    .colab-df-buttons div {\n",
              "      margin-bottom: 4px;\n",
              "    }\n",
              "\n",
              "    [theme=dark] .colab-df-convert {\n",
              "      background-color: #3B4455;\n",
              "      fill: #D2E3FC;\n",
              "    }\n",
              "\n",
              "    [theme=dark] .colab-df-convert:hover {\n",
              "      background-color: #434B5C;\n",
              "      box-shadow: 0px 1px 3px 1px rgba(0, 0, 0, 0.15);\n",
              "      filter: drop-shadow(0px 1px 2px rgba(0, 0, 0, 0.3));\n",
              "      fill: #FFFFFF;\n",
              "    }\n",
              "  </style>\n",
              "\n",
              "    <script>\n",
              "      const buttonEl =\n",
              "        document.querySelector('#df-8885a152-c1e6-4b8e-bf8d-ec299d8938f5 button.colab-df-convert');\n",
              "      buttonEl.style.display =\n",
              "        google.colab.kernel.accessAllowed ? 'block' : 'none';\n",
              "\n",
              "      async function convertToInteractive(key) {\n",
              "        const element = document.querySelector('#df-8885a152-c1e6-4b8e-bf8d-ec299d8938f5');\n",
              "        const dataTable =\n",
              "          await google.colab.kernel.invokeFunction('convertToInteractive',\n",
              "                                                    [key], {});\n",
              "        if (!dataTable) return;\n",
              "\n",
              "        const docLinkHtml = 'Like what you see? Visit the ' +\n",
              "          '<a target=\"_blank\" href=https://colab.research.google.com/notebooks/data_table.ipynb>data table notebook</a>'\n",
              "          + ' to learn more about interactive tables.';\n",
              "        element.innerHTML = '';\n",
              "        dataTable['output_type'] = 'display_data';\n",
              "        await google.colab.output.renderOutput(dataTable, element);\n",
              "        const docLink = document.createElement('div');\n",
              "        docLink.innerHTML = docLinkHtml;\n",
              "        element.appendChild(docLink);\n",
              "      }\n",
              "    </script>\n",
              "  </div>\n",
              "\n",
              "\n",
              "<div id=\"df-770bd68c-8036-47a9-a561-3e404bc3b470\">\n",
              "  <button class=\"colab-df-quickchart\" onclick=\"quickchart('df-770bd68c-8036-47a9-a561-3e404bc3b470')\"\n",
              "            title=\"Suggest charts\"\n",
              "            style=\"display:none;\">\n",
              "\n",
              "<svg xmlns=\"http://www.w3.org/2000/svg\" height=\"24px\"viewBox=\"0 0 24 24\"\n",
              "     width=\"24px\">\n",
              "    <g>\n",
              "        <path d=\"M19 3H5c-1.1 0-2 .9-2 2v14c0 1.1.9 2 2 2h14c1.1 0 2-.9 2-2V5c0-1.1-.9-2-2-2zM9 17H7v-7h2v7zm4 0h-2V7h2v10zm4 0h-2v-4h2v4z\"/>\n",
              "    </g>\n",
              "</svg>\n",
              "  </button>\n",
              "\n",
              "<style>\n",
              "  .colab-df-quickchart {\n",
              "      --bg-color: #E8F0FE;\n",
              "      --fill-color: #1967D2;\n",
              "      --hover-bg-color: #E2EBFA;\n",
              "      --hover-fill-color: #174EA6;\n",
              "      --disabled-fill-color: #AAA;\n",
              "      --disabled-bg-color: #DDD;\n",
              "  }\n",
              "\n",
              "  [theme=dark] .colab-df-quickchart {\n",
              "      --bg-color: #3B4455;\n",
              "      --fill-color: #D2E3FC;\n",
              "      --hover-bg-color: #434B5C;\n",
              "      --hover-fill-color: #FFFFFF;\n",
              "      --disabled-bg-color: #3B4455;\n",
              "      --disabled-fill-color: #666;\n",
              "  }\n",
              "\n",
              "  .colab-df-quickchart {\n",
              "    background-color: var(--bg-color);\n",
              "    border: none;\n",
              "    border-radius: 50%;\n",
              "    cursor: pointer;\n",
              "    display: none;\n",
              "    fill: var(--fill-color);\n",
              "    height: 32px;\n",
              "    padding: 0;\n",
              "    width: 32px;\n",
              "  }\n",
              "\n",
              "  .colab-df-quickchart:hover {\n",
              "    background-color: var(--hover-bg-color);\n",
              "    box-shadow: 0 1px 2px rgba(60, 64, 67, 0.3), 0 1px 3px 1px rgba(60, 64, 67, 0.15);\n",
              "    fill: var(--button-hover-fill-color);\n",
              "  }\n",
              "\n",
              "  .colab-df-quickchart-complete:disabled,\n",
              "  .colab-df-quickchart-complete:disabled:hover {\n",
              "    background-color: var(--disabled-bg-color);\n",
              "    fill: var(--disabled-fill-color);\n",
              "    box-shadow: none;\n",
              "  }\n",
              "\n",
              "  .colab-df-spinner {\n",
              "    border: 2px solid var(--fill-color);\n",
              "    border-color: transparent;\n",
              "    border-bottom-color: var(--fill-color);\n",
              "    animation:\n",
              "      spin 1s steps(1) infinite;\n",
              "  }\n",
              "\n",
              "  @keyframes spin {\n",
              "    0% {\n",
              "      border-color: transparent;\n",
              "      border-bottom-color: var(--fill-color);\n",
              "      border-left-color: var(--fill-color);\n",
              "    }\n",
              "    20% {\n",
              "      border-color: transparent;\n",
              "      border-left-color: var(--fill-color);\n",
              "      border-top-color: var(--fill-color);\n",
              "    }\n",
              "    30% {\n",
              "      border-color: transparent;\n",
              "      border-left-color: var(--fill-color);\n",
              "      border-top-color: var(--fill-color);\n",
              "      border-right-color: var(--fill-color);\n",
              "    }\n",
              "    40% {\n",
              "      border-color: transparent;\n",
              "      border-right-color: var(--fill-color);\n",
              "      border-top-color: var(--fill-color);\n",
              "    }\n",
              "    60% {\n",
              "      border-color: transparent;\n",
              "      border-right-color: var(--fill-color);\n",
              "    }\n",
              "    80% {\n",
              "      border-color: transparent;\n",
              "      border-right-color: var(--fill-color);\n",
              "      border-bottom-color: var(--fill-color);\n",
              "    }\n",
              "    90% {\n",
              "      border-color: transparent;\n",
              "      border-bottom-color: var(--fill-color);\n",
              "    }\n",
              "  }\n",
              "</style>\n",
              "\n",
              "  <script>\n",
              "    async function quickchart(key) {\n",
              "      const quickchartButtonEl =\n",
              "        document.querySelector('#' + key + ' button');\n",
              "      quickchartButtonEl.disabled = true;  // To prevent multiple clicks.\n",
              "      quickchartButtonEl.classList.add('colab-df-spinner');\n",
              "      try {\n",
              "        const charts = await google.colab.kernel.invokeFunction(\n",
              "            'suggestCharts', [key], {});\n",
              "      } catch (error) {\n",
              "        console.error('Error during call to suggestCharts:', error);\n",
              "      }\n",
              "      quickchartButtonEl.classList.remove('colab-df-spinner');\n",
              "      quickchartButtonEl.classList.add('colab-df-quickchart-complete');\n",
              "    }\n",
              "    (() => {\n",
              "      let quickchartButtonEl =\n",
              "        document.querySelector('#df-770bd68c-8036-47a9-a561-3e404bc3b470 button');\n",
              "      quickchartButtonEl.style.display =\n",
              "        google.colab.kernel.accessAllowed ? 'block' : 'none';\n",
              "    })();\n",
              "  </script>\n",
              "</div>\n",
              "\n",
              "    </div>\n",
              "  </div>\n"
            ],
            "application/vnd.google.colaboratory.intrinsic+json": {
              "type": "dataframe",
              "variable_name": "df",
              "summary": "{\n  \"name\": \"df\",\n  \"rows\": 150,\n  \"fields\": [\n    {\n      \"column\": \"Id\",\n      \"properties\": {\n        \"dtype\": \"number\",\n        \"std\": 43,\n        \"min\": 1,\n        \"max\": 150,\n        \"num_unique_values\": 150,\n        \"samples\": [\n          74,\n          19,\n          119\n        ],\n        \"semantic_type\": \"\",\n        \"description\": \"\"\n      }\n    },\n    {\n      \"column\": \"SepalLengthCm\",\n      \"properties\": {\n        \"dtype\": \"number\",\n        \"std\": 0.828066127977863,\n        \"min\": 4.3,\n        \"max\": 7.9,\n        \"num_unique_values\": 35,\n        \"samples\": [\n          6.2,\n          4.5,\n          5.6\n        ],\n        \"semantic_type\": \"\",\n        \"description\": \"\"\n      }\n    },\n    {\n      \"column\": \"SepalWidthCm\",\n      \"properties\": {\n        \"dtype\": \"number\",\n        \"std\": 0.4335943113621737,\n        \"min\": 2.0,\n        \"max\": 4.4,\n        \"num_unique_values\": 23,\n        \"samples\": [\n          2.3,\n          4.0,\n          3.5\n        ],\n        \"semantic_type\": \"\",\n        \"description\": \"\"\n      }\n    },\n    {\n      \"column\": \"PetalLengthCm\",\n      \"properties\": {\n        \"dtype\": \"number\",\n        \"std\": 1.7644204199522626,\n        \"min\": 1.0,\n        \"max\": 6.9,\n        \"num_unique_values\": 43,\n        \"samples\": [\n          6.7,\n          3.8,\n          3.7\n        ],\n        \"semantic_type\": \"\",\n        \"description\": \"\"\n      }\n    },\n    {\n      \"column\": \"PetalWidthCm\",\n      \"properties\": {\n        \"dtype\": \"number\",\n        \"std\": 0.7631607417008411,\n        \"min\": 0.1,\n        \"max\": 2.5,\n        \"num_unique_values\": 22,\n        \"samples\": [\n          0.2,\n          1.2,\n          1.3\n        ],\n        \"semantic_type\": \"\",\n        \"description\": \"\"\n      }\n    },\n    {\n      \"column\": \"Species\",\n      \"properties\": {\n        \"dtype\": \"category\",\n        \"num_unique_values\": 3,\n        \"samples\": [\n          \"Iris-setosa\",\n          \"Iris-versicolor\",\n          \"Iris-virginica\"\n        ],\n        \"semantic_type\": \"\",\n        \"description\": \"\"\n      }\n    }\n  ]\n}"
            }
          },
          "metadata": {},
          "execution_count": 8
        }
      ]
    },
    {
      "cell_type": "markdown",
      "source": [
        " **(iv)  Loading Built-in Text Datasets with NLTK**"
      ],
      "metadata": {
        "id": "9hfJKa2HeJP9"
      }
    },
    {
      "cell_type": "code",
      "source": [
        "import nltk\n",
        "nltk.download('brown')\n",
        "from nltk.corpus import brown\n",
        "print(brown.words())"
      ],
      "metadata": {
        "id": "ElQbYpb_eKqt",
        "colab": {
          "base_uri": "https://localhost:8080/"
        },
        "outputId": "e3245d24-db3b-4bba-c85d-2eefc096ba37"
      },
      "execution_count": 9,
      "outputs": [
        {
          "output_type": "stream",
          "name": "stdout",
          "text": [
            "['The', 'Fulton', 'County', 'Grand', 'Jury', 'said', ...]\n"
          ]
        },
        {
          "output_type": "stream",
          "name": "stderr",
          "text": [
            "[nltk_data] Downloading package brown to /root/nltk_data...\n",
            "[nltk_data]   Package brown is already up-to-date!\n"
          ]
        }
      ]
    },
    {
      "cell_type": "markdown",
      "source": [
        "**(v) Loading Text Data Using Hugging Face Datasets**"
      ],
      "metadata": {
        "id": "sj5gI2F0ebA9"
      }
    },
    {
      "cell_type": "code",
      "source": [
        "!pip install datasets\n",
        "from datasets import load_dataset\n",
        "dataset = load_dataset('imdb')\n",
        "print(dataset)\n"
      ],
      "metadata": {
        "id": "cqM0TFeGedBd",
        "colab": {
          "base_uri": "https://localhost:8080/"
        },
        "outputId": "c3cf9715-11bb-4c64-c48e-2aa7fa3a4b36"
      },
      "execution_count": 15,
      "outputs": [
        {
          "output_type": "stream",
          "name": "stdout",
          "text": [
            "Requirement already satisfied: datasets in /usr/local/lib/python3.10/dist-packages (2.21.0)\n",
            "Requirement already satisfied: filelock in /usr/local/lib/python3.10/dist-packages (from datasets) (3.15.4)\n",
            "Requirement already satisfied: numpy>=1.17 in /usr/local/lib/python3.10/dist-packages (from datasets) (1.26.4)\n",
            "Requirement already satisfied: pyarrow>=15.0.0 in /usr/local/lib/python3.10/dist-packages (from datasets) (17.0.0)\n",
            "Requirement already satisfied: dill<0.3.9,>=0.3.0 in /usr/local/lib/python3.10/dist-packages (from datasets) (0.3.8)\n",
            "Requirement already satisfied: pandas in /usr/local/lib/python3.10/dist-packages (from datasets) (2.1.4)\n",
            "Requirement already satisfied: requests>=2.32.2 in /usr/local/lib/python3.10/dist-packages (from datasets) (2.32.3)\n",
            "Requirement already satisfied: tqdm>=4.66.3 in /usr/local/lib/python3.10/dist-packages (from datasets) (4.66.5)\n",
            "Requirement already satisfied: xxhash in /usr/local/lib/python3.10/dist-packages (from datasets) (3.5.0)\n",
            "Requirement already satisfied: multiprocess in /usr/local/lib/python3.10/dist-packages (from datasets) (0.70.16)\n",
            "Requirement already satisfied: fsspec<=2024.6.1,>=2023.1.0 in /usr/local/lib/python3.10/dist-packages (from fsspec[http]<=2024.6.1,>=2023.1.0->datasets) (2024.6.1)\n",
            "Requirement already satisfied: aiohttp in /usr/local/lib/python3.10/dist-packages (from datasets) (3.10.5)\n",
            "Requirement already satisfied: huggingface-hub>=0.21.2 in /usr/local/lib/python3.10/dist-packages (from datasets) (0.23.5)\n",
            "Requirement already satisfied: packaging in /usr/local/lib/python3.10/dist-packages (from datasets) (24.1)\n",
            "Requirement already satisfied: pyyaml>=5.1 in /usr/local/lib/python3.10/dist-packages (from datasets) (6.0.2)\n",
            "Requirement already satisfied: aiohappyeyeballs>=2.3.0 in /usr/local/lib/python3.10/dist-packages (from aiohttp->datasets) (2.4.0)\n",
            "Requirement already satisfied: aiosignal>=1.1.2 in /usr/local/lib/python3.10/dist-packages (from aiohttp->datasets) (1.3.1)\n",
            "Requirement already satisfied: attrs>=17.3.0 in /usr/local/lib/python3.10/dist-packages (from aiohttp->datasets) (24.2.0)\n",
            "Requirement already satisfied: frozenlist>=1.1.1 in /usr/local/lib/python3.10/dist-packages (from aiohttp->datasets) (1.4.1)\n",
            "Requirement already satisfied: multidict<7.0,>=4.5 in /usr/local/lib/python3.10/dist-packages (from aiohttp->datasets) (6.0.5)\n",
            "Requirement already satisfied: yarl<2.0,>=1.0 in /usr/local/lib/python3.10/dist-packages (from aiohttp->datasets) (1.9.4)\n",
            "Requirement already satisfied: async-timeout<5.0,>=4.0 in /usr/local/lib/python3.10/dist-packages (from aiohttp->datasets) (4.0.3)\n",
            "Requirement already satisfied: typing-extensions>=3.7.4.3 in /usr/local/lib/python3.10/dist-packages (from huggingface-hub>=0.21.2->datasets) (4.12.2)\n",
            "Requirement already satisfied: charset-normalizer<4,>=2 in /usr/local/lib/python3.10/dist-packages (from requests>=2.32.2->datasets) (3.3.2)\n",
            "Requirement already satisfied: idna<4,>=2.5 in /usr/local/lib/python3.10/dist-packages (from requests>=2.32.2->datasets) (3.8)\n",
            "Requirement already satisfied: urllib3<3,>=1.21.1 in /usr/local/lib/python3.10/dist-packages (from requests>=2.32.2->datasets) (2.0.7)\n",
            "Requirement already satisfied: certifi>=2017.4.17 in /usr/local/lib/python3.10/dist-packages (from requests>=2.32.2->datasets) (2024.7.4)\n",
            "Requirement already satisfied: python-dateutil>=2.8.2 in /usr/local/lib/python3.10/dist-packages (from pandas->datasets) (2.8.2)\n",
            "Requirement already satisfied: pytz>=2020.1 in /usr/local/lib/python3.10/dist-packages (from pandas->datasets) (2024.1)\n",
            "Requirement already satisfied: tzdata>=2022.1 in /usr/local/lib/python3.10/dist-packages (from pandas->datasets) (2024.1)\n",
            "Requirement already satisfied: six>=1.5 in /usr/local/lib/python3.10/dist-packages (from python-dateutil>=2.8.2->pandas->datasets) (1.16.0)\n",
            "DatasetDict({\n",
            "    train: Dataset({\n",
            "        features: ['text', 'label'],\n",
            "        num_rows: 25000\n",
            "    })\n",
            "    test: Dataset({\n",
            "        features: ['text', 'label'],\n",
            "        num_rows: 25000\n",
            "    })\n",
            "    unsupervised: Dataset({\n",
            "        features: ['text', 'label'],\n",
            "        num_rows: 50000\n",
            "    })\n",
            "})\n"
          ]
        }
      ]
    },
    {
      "cell_type": "markdown",
      "source": [
        "**3. Take your own text or take text as “The bank can guarantee deposits will eventually cover future tuition costs because it invests in adjustable-rate mortgage securities.\"  Implement Ambiguity Removal in the text.           [CO1]**"
      ],
      "metadata": {
        "id": "MQK3ptf-eiq9"
      }
    },
    {
      "cell_type": "code",
      "source": [
        "import pandas as pd\n",
        "# ambiguity removal\n",
        "# Creating a Sample Dataset\n",
        "dat ='The bank can guarantee deposits will eventually cover future tuition costs because it invests in adjustable-rate mortgage securities.'\n",
        "print(dat)"
      ],
      "metadata": {
        "id": "y_Q-Yj6-ekc2",
        "colab": {
          "base_uri": "https://localhost:8080/"
        },
        "outputId": "e91b041c-222f-427d-9915-66a73ca12d88"
      },
      "execution_count": 11,
      "outputs": [
        {
          "output_type": "stream",
          "name": "stdout",
          "text": [
            "The bank can guarantee deposits will eventually cover future tuition costs because it invests in adjustable-rate mortgage securities.\n"
          ]
        }
      ]
    },
    {
      "cell_type": "code",
      "source": [
        "def ambiguity_removal(text):\n",
        "  # Example: Replacing \"it\" with \"the bank\"\n",
        "  text = text.replace(\"it invests\", \"the bank invests\")\n",
        "  return text\n",
        "ambiguity_removal(dat)"
      ],
      "metadata": {
        "id": "hcAHQRD2jtF1",
        "colab": {
          "base_uri": "https://localhost:8080/",
          "height": 35
        },
        "outputId": "c31c273d-7810-4797-939c-b640bc6889bd"
      },
      "execution_count": 12,
      "outputs": [
        {
          "output_type": "execute_result",
          "data": {
            "text/plain": [
              "'The bank can guarantee deposits will eventually cover future tuition costs because the bank invests in adjustable-rate mortgage securities.'"
            ],
            "application/vnd.google.colaboratory.intrinsic+json": {
              "type": "string"
            }
          },
          "metadata": {},
          "execution_count": 12
        }
      ]
    },
    {
      "cell_type": "markdown",
      "source": [
        "**4.  Take your own text or take text as “Hello there! How are you doing today NLP is fascinating.\"  Implement Sentence Segmentation in the text.         [CO1]**"
      ],
      "metadata": {
        "id": "-LseQVzQelgl"
      }
    },
    {
      "cell_type": "code",
      "source": [
        "# Segmentation\n",
        "import nltk\n",
        "from nltk.tokenize import word_tokenize, sent_tokenize\n",
        "# Download necessary NLTK data\n",
        "nltk.download('punkt')\n",
        "import pandas as pd"
      ],
      "metadata": {
        "id": "Hcck2-AlepZd",
        "colab": {
          "base_uri": "https://localhost:8080/"
        },
        "outputId": "cfcbae6a-1462-4955-dc64-9775deeee79c"
      },
      "execution_count": 13,
      "outputs": [
        {
          "output_type": "stream",
          "name": "stderr",
          "text": [
            "[nltk_data] Downloading package punkt to /root/nltk_data...\n",
            "[nltk_data]   Package punkt is already up-to-date!\n"
          ]
        }
      ]
    },
    {
      "cell_type": "code",
      "source": [
        "text = \"Hello there! How are you doing today? NLP is fascinating.\"\n",
        "\n",
        "sentences = sent_tokenize(text)\n",
        "for sentence in sentences:\n",
        "  print(sentence)\n"
      ],
      "metadata": {
        "id": "qXQ3hG4tkjJV",
        "colab": {
          "base_uri": "https://localhost:8080/"
        },
        "outputId": "6ca35842-73f5-4b9b-c993-659f81530acb"
      },
      "execution_count": 14,
      "outputs": [
        {
          "output_type": "stream",
          "name": "stdout",
          "text": [
            "Hello there!\n",
            "How are you doing today?\n",
            "NLP is fascinating.\n"
          ]
        }
      ]
    }
  ]
}