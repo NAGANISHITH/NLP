{
  "nbformat": 4,
  "nbformat_minor": 0,
  "metadata": {
    "colab": {
      "provenance": [],
      "include_colab_link": true
    },
    "kernelspec": {
      "name": "python3",
      "display_name": "Python 3"
    },
    "language_info": {
      "name": "python"
    }
  },
  "cells": [
    {
      "cell_type": "markdown",
      "metadata": {
        "id": "view-in-github",
        "colab_type": "text"
      },
      "source": [
        "<a href=\"https://colab.research.google.com/github/NAGANISHITH/NLP/blob/main/NLP_LA3.ipynb\" target=\"_parent\"><img src=\"https://colab.research.google.com/assets/colab-badge.svg\" alt=\"Open In Colab\"/></a>"
      ]
    },
    {
      "cell_type": "markdown",
      "source": [
        "1. Implement Word Embeddings on following text\n",
        " words = ['king', 'queen', 'man', 'woman', 'paris', 'france', 'london', 'england']."
      ],
      "metadata": {
        "id": "0kWoMKQMXTov"
      }
    },
    {
      "cell_type": "code",
      "source": [
        "# Word Embedding# Importing necessary libraries\n",
        "import spacy\n",
        "import gensim.downloader as api\n",
        "from gensim.models import Word2Vec\n",
        "from sklearn.decomposition import PCA\n",
        "import matplotlib.pyplot as plt\n",
        "# Load pre-trained word vectors (Word Embeddings)\n",
        "word_vectors = api.load(\"glove-wiki-gigaword-100\")  # Using GloVe embeddings with 100-dimensional vectors\n",
        "# Exploring Word Embeddings\n",
        "def explore_embeddings(word):\n",
        "    similar_words = word_vectors.most_similar(word)\n",
        "    print(f\"Words most similar to '{word}':\")\n",
        "    for similar_word, similarity in similar_words:\n",
        "        print(f\"{similar_word}: {similarity:.4f}\")\n",
        "explore_embeddings(\"king\")"
      ],
      "metadata": {
        "colab": {
          "base_uri": "https://localhost:8080/"
        },
        "id": "UP8EaoU8X-1w",
        "outputId": "0f25b126-9d51-461b-b19a-472d62dd5705"
      },
      "execution_count": 1,
      "outputs": [
        {
          "output_type": "stream",
          "name": "stdout",
          "text": [
            "[==================================================] 100.0% 128.1/128.1MB downloaded\n",
            "Words most similar to 'king':\n",
            "prince: 0.7682\n",
            "queen: 0.7508\n",
            "son: 0.7021\n",
            "brother: 0.6986\n",
            "monarch: 0.6978\n",
            "throne: 0.6920\n",
            "kingdom: 0.6811\n",
            "father: 0.6802\n",
            "emperor: 0.6713\n",
            "ii: 0.6676\n"
          ]
        }
      ]
    },
    {
      "cell_type": "markdown",
      "source": [
        "2. Implement Word Embeddings using PCA (Principal Component Analysis"
      ],
      "metadata": {
        "id": "O2huexayXVpK"
      }
    },
    {
      "cell_type": "code",
      "source": [
        "# Visualizing Word Embeddings using PCA\n",
        "words = ['king', 'queen', 'man', 'woman', 'paris', 'france', 'london', 'england']\n",
        "word_vecs = [word_vectors[word] for word in words]\n",
        "\n",
        "pca = PCA(n_components=2)\n",
        "result = pca.fit_transform(word_vecs)\n",
        "\n",
        "plt.figure(figsize=(8, 6))\n",
        "plt.scatter(result[:, 0], result[:, 1], c='red')\n",
        "\n",
        "for i, word in enumerate(words):\n",
        "    plt.annotate(word, xy=(result[i, 0], result[i, 1]))\n",
        "\n",
        "plt.title(\"Word Embeddings Visualized using PCA\")\n",
        "plt.show()"
      ],
      "metadata": {
        "colab": {
          "base_uri": "https://localhost:8080/",
          "height": 545
        },
        "id": "oGRGNSZ_YAdX",
        "outputId": "4b3167a7-8958-4298-bd45-3c7b603298cc"
      },
      "execution_count": 2,
      "outputs": [
        {
          "output_type": "display_data",
          "data": {
            "text/plain": [
              "<Figure size 800x600 with 1 Axes>"
            ],
            "image/png": "[encoded data removed]"
          },
          "metadata": {}
        }
      ]
    },
    {
      "cell_type": "markdown",
      "source": [
        "3. Execute Dependency Parsing"
      ],
      "metadata": {
        "id": "AIM4zgKMXV40"
      }
    },
    {
      "cell_type": "code",
      "source": [
        "# Load SpaCy model for Linguistic Structure and Dependency Parsing\n",
        "nlp = spacy.load(\"en_core_web_sm\")\n",
        "\n",
        "# Example sentence for analysis\n",
        "sentence = \"The quick brown fox jumps over the lazy dog.\"\n",
        "\n",
        "# Parse sentence using SpaCy\n",
        "doc = nlp(sentence)\n",
        "\n",
        "# Display linguistic structure and dependency parsing\n",
        "for token in doc:\n",
        "    print(f\"Word: {token.text}, POS: {token.pos_}, Dependency: {token.dep_}, Head: {token.head.text}\")"
      ],
      "metadata": {
        "colab": {
          "base_uri": "https://localhost:8080/"
        },
        "id": "bwP9lH1EYBOL",
        "outputId": "26b30df0-867c-4a4e-bd19-f46cca59555c"
      },
      "execution_count": 3,
      "outputs": [
        {
          "output_type": "stream",
          "name": "stdout",
          "text": [
            "Word: The, POS: DET, Dependency: det, Head: fox\n",
            "Word: quick, POS: ADJ, Dependency: amod, Head: fox\n",
            "Word: brown, POS: ADJ, Dependency: amod, Head: fox\n",
            "Word: fox, POS: NOUN, Dependency: nsubj, Head: jumps\n",
            "Word: jumps, POS: VERB, Dependency: ROOT, Head: jumps\n",
            "Word: over, POS: ADP, Dependency: prep, Head: jumps\n",
            "Word: the, POS: DET, Dependency: det, Head: dog\n",
            "Word: lazy, POS: ADJ, Dependency: amod, Head: dog\n",
            "Word: dog, POS: NOUN, Dependency: pobj, Head: over\n",
            "Word: ., POS: PUNCT, Dependency: punct, Head: jumps\n"
          ]
        }
      ]
    },
    {
      "cell_type": "code",
      "source": [],
      "metadata": {
        "id": "vs3qdp4rq73T"
      },
      "execution_count": null,
      "outputs": []
    }
  ]
}