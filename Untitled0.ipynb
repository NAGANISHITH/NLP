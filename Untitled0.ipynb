{
  "nbformat": 4,
  "nbformat_minor": 0,
  "metadata": {
    "colab": {
      "provenance": [],
      "authorship_tag": "ABX9TyNW++Ctf6C0WTAKSTY6htBJ",
      "include_colab_link": true
    },
    "kernelspec": {
      "name": "python3",
      "display_name": "Python 3"
    },
    "language_info": {
      "name": "python"
    }
  },
  "cells": [
    {
      "cell_type": "markdown",
      "metadata": {
        "id": "view-in-github",
        "colab_type": "text"
      },
      "source": [
        "<a href=\"https://colab.research.google.com/github/NAGANISHITH/NLP/blob/main/Untitled0.ipynb\" target=\"_parent\"><img src=\"https://colab.research.google.com/assets/colab-badge.svg\" alt=\"Open In Colab\"/></a>"
      ]
    },
    {
      "cell_type": "code",
      "execution_count": null,
      "metadata": {
        "colab": {
          "base_uri": "https://localhost:8080/"
        },
        "id": "OCnZ1edm4Mdv",
        "outputId": "43b37d86-46b3-4580-f481-619957fabd05"
      },
      "outputs": [
        {
          "output_type": "stream",
          "name": "stdout",
          "text": [
            "Downloading data from https://storage.googleapis.com/tensorflow/tf-keras-datasets/imdb.npz\n",
            "\u001b[1m17464789/17464789\u001b[0m \u001b[32m━━━━━━━━━━━━━━━━━━━━\u001b[0m\u001b[37m\u001b[0m \u001b[1m0s\u001b[0m 0us/step\n",
            "Epoch 1/5\n",
            "\u001b[1m625/625\u001b[0m \u001b[32m━━━━━━━━━━━━━━━━━━━━\u001b[0m\u001b[37m\u001b[0m \u001b[1m174s\u001b[0m 273ms/step - accuracy: 0.6911 - loss: 0.5515 - val_accuracy: 0.8702 - val_loss: 0.3233\n",
            "Epoch 2/5\n",
            "\u001b[1m625/625\u001b[0m \u001b[32m━━━━━━━━━━━━━━━━━━━━\u001b[0m\u001b[37m\u001b[0m \u001b[1m189s\u001b[0m 253ms/step - accuracy: 0.9118 - loss: 0.2264 - val_accuracy: 0.8762 - val_loss: 0.3057\n",
            "Epoch 3/5\n",
            "\u001b[1m625/625\u001b[0m \u001b[32m━━━━━━━━━━━━━━━━━━━━\u001b[0m\u001b[37m\u001b[0m \u001b[1m158s\u001b[0m 253ms/step - accuracy: 0.9645 - loss: 0.1014 - val_accuracy: 0.8764 - val_loss: 0.3566\n",
            "Epoch 4/5\n",
            "\u001b[1m625/625\u001b[0m \u001b[32m━━━━━━━━━━━━━━━━━━━━\u001b[0m\u001b[37m\u001b[0m \u001b[1m159s\u001b[0m 254ms/step - accuracy: 0.9871 - loss: 0.0400 - val_accuracy: 0.8722 - val_loss: 0.4499\n",
            "Epoch 5/5\n",
            "\u001b[1m498/625\u001b[0m \u001b[32m━━━━━━━━━━━━━━━\u001b[0m\u001b[37m━━━━━\u001b[0m \u001b[1m30s\u001b[0m 241ms/step - accuracy: 0.9938 - loss: 0.0235"
          ]
        }
      ],
      "source": [
        "import numpy as np\n",
        "from tensorflow import keras\n",
        "from tensorflow.keras import layers\n",
        "\n",
        "# Load the IMDB dataset\n",
        "(x_train, y_train), (x_test, y_test) = keras.datasets.imdb.load_data(num_words=20000)\n",
        "\n",
        "# Pad sequences to a fixed length\n",
        "maxlen = 200\n",
        "x_train = keras.preprocessing.sequence.pad_sequences(x_train, maxlen=maxlen)\n",
        "x_test = keras.preprocessing.sequence.pad_sequences(x_test, maxlen=maxlen)\n",
        "\n",
        "# Build the Gated Recurrent Units (GRU) Model\n",
        "model = keras.Sequential()\n",
        "model.add(layers.Embedding(input_dim=20000, output_dim=128))\n",
        "model.add(layers.GRU(128))\n",
        "model.add(layers.Dense(1, activation='sigmoid'))\n",
        "\n",
        "# Training the GRU Model\n",
        "model.compile(optimizer='adam', loss='binary_crossentropy', metrics=['accuracy'])\n",
        "model.fit(x_train, y_train, epochs=5, batch_size=32, validation_split=0.2)\n",
        "\n",
        "# Evaluate Model's accuracy\n",
        "loss, accuracy = model.evaluate(x_test, y_test)\n",
        "print('Test accuracy:', accuracy)"
      ]
    },
    {
      "cell_type": "code",
      "source": [
        "import tensorflow as tf\n",
        "from tensorflow.keras.datasets import imdb\n",
        "from tensorflow.keras.preprocessing.sequence import pad_sequences\n",
        "from tensorflow.keras.models import Sequential\n",
        "from tensorflow.keras.layers import Embedding, LSTM, GRU, Dense\n",
        "\n",
        "# Load the IMDB dataset\n",
        "(x_train, y_train), (x_test, y_test) = imdb.load_data(num_words=10000)\n",
        "\n",
        "# Pad sequences to a fixed length\n",
        "max_len = 200\n",
        "x_train = pad_sequences(x_train, maxlen=max_len)\n",
        "x_test = pad_sequences(x_test, maxlen=max_len)\n",
        "\n",
        "# Define the LSTM model\n",
        "lstm_model = Sequential()\n",
        "lstm_model.add(Embedding(10000, 128))\n",
        "lstm_model.add(LSTM(128))\n",
        "lstm_model.add(Dense(1, activation='sigmoid'))\n",
        "\n",
        "# Compile the LSTM model\n",
        "lstm_model.compile(optimizer='adam', loss='binary_crossentropy', metrics=['accuracy'])\n",
        "\n",
        "# Define the GRU model\n",
        "gru_model = Sequential()\n",
        "gru_model.add(Embedding(10000, 128))\n",
        "gru_model.add(GRU(128))\n",
        "gru_model.add(Dense(1, activation='sigmoid'))\n",
        "\n",
        "# Compile the GRU model\n",
        "gru_model.compile(optimizer='adam', loss='binary_crossentropy', metrics=['accuracy'])\n",
        "\n",
        "# Train the LSTM model\n",
        "lstm_model.fit(x_train, y_train, epochs=3, batch_size=64, validation_split=0.2)\n",
        "\n",
        "# Train the GRU model\n",
        "gru_model.fit(x_train, y_train, epochs=3, batch_size=64, validation_split=0.2)\n",
        "\n",
        "# Evaluate the models\n",
        "lstm_loss, lstm_accuracy = lstm_model.evaluate(x_test, y_test)\n",
        "gru_loss, gru_accuracy = gru_model.evaluate(x_test, y_test)\n",
        "\n",
        "print('LSTM Accuracy:', lstm_accuracy)\n",
        "print('GRU Accuracy:', gru_accuracy)\n",
        "\n",
        "# Compare the accuracy of the models\n",
        "if lstm_accuracy > gru_accuracy:\n",
        "  print('LSTM model has higher accuracy.')\n",
        "elif gru_accuracy > lstm_accuracy:\n",
        "  print('GRU model has higher accuracy.')\n",
        "else:\n",
        "  print('Both models have similar accuracy.')\n"
      ],
      "metadata": {
        "colab": {
          "base_uri": "https://localhost:8080/"
        },
        "id": "IdwfFas24lvm",
        "outputId": "9ec3648b-dfb1-4796-a387-fd44c4f728bf"
      },
      "execution_count": 3,
      "outputs": [
        {
          "output_type": "stream",
          "name": "stdout",
          "text": [
            "Epoch 1/3\n",
            "\u001b[1m313/313\u001b[0m \u001b[32m━━━━━━━━━━━━━━━━━━━━\u001b[0m\u001b[37m\u001b[0m \u001b[1m136s\u001b[0m 430ms/step - accuracy: 0.6729 - loss: 0.5839 - val_accuracy: 0.8310 - val_loss: 0.3797\n",
            "Epoch 2/3\n",
            "\u001b[1m313/313\u001b[0m \u001b[32m━━━━━━━━━━━━━━━━━━━━\u001b[0m\u001b[37m\u001b[0m \u001b[1m142s\u001b[0m 429ms/step - accuracy: 0.8601 - loss: 0.3332 - val_accuracy: 0.8582 - val_loss: 0.3359\n",
            "Epoch 3/3\n",
            "\u001b[1m313/313\u001b[0m \u001b[32m━━━━━━━━━━━━━━━━━━━━\u001b[0m\u001b[37m\u001b[0m \u001b[1m142s\u001b[0m 430ms/step - accuracy: 0.9235 - loss: 0.2043 - val_accuracy: 0.8694 - val_loss: 0.3316\n",
            "Epoch 1/3\n",
            "\u001b[1m313/313\u001b[0m \u001b[32m━━━━━━━━━━━━━━━━━━━━\u001b[0m\u001b[37m\u001b[0m \u001b[1m147s\u001b[0m 460ms/step - accuracy: 0.6670 - loss: 0.5797 - val_accuracy: 0.8430 - val_loss: 0.3648\n",
            "Epoch 2/3\n",
            "\u001b[1m313/313\u001b[0m \u001b[32m━━━━━━━━━━━━━━━━━━━━\u001b[0m\u001b[37m\u001b[0m \u001b[1m144s\u001b[0m 461ms/step - accuracy: 0.8963 - loss: 0.2638 - val_accuracy: 0.8286 - val_loss: 0.3787\n",
            "Epoch 3/3\n",
            "\u001b[1m313/313\u001b[0m \u001b[32m━━━━━━━━━━━━━━━━━━━━\u001b[0m\u001b[37m\u001b[0m \u001b[1m202s\u001b[0m 460ms/step - accuracy: 0.9360 - loss: 0.1813 - val_accuracy: 0.8554 - val_loss: 0.4028\n",
            "\u001b[1m782/782\u001b[0m \u001b[32m━━━━━━━━━━━━━━━━━━━━\u001b[0m\u001b[37m\u001b[0m \u001b[1m73s\u001b[0m 93ms/step - accuracy: 0.8645 - loss: 0.3517\n",
            "\u001b[1m782/782\u001b[0m \u001b[32m━━━━━━━━━━━━━━━━━━━━\u001b[0m\u001b[37m\u001b[0m \u001b[1m39s\u001b[0m 49ms/step - accuracy: 0.8522 - loss: 0.4233\n",
            "LSTM Accuracy: 0.8652399778366089\n",
            "GRU Accuracy: 0.8537999987602234\n",
            "LSTM model has higher accuracy.\n"
          ]
        }
      ]
    },
    {
      "cell_type": "code",
      "source": [],
      "metadata": {
        "id": "hTSOLA1r4oM4"
      },
      "execution_count": null,
      "outputs": []
    }
  ]
}